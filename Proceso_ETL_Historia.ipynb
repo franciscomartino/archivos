{
 "cells": [
  {
   "cell_type": "markdown",
   "id": "1ac09ccd",
   "metadata": {},
   "source": [
    "# Proceso ETL con Historia\n",
    "## Francisco Martino, David Romero Acosta, Edgar García\n",
    "### Modelamiento de Datos y ETL"
   ]
  },
  {
   "cell_type": "markdown",
   "id": "cf73bcff",
   "metadata": {},
   "source": [
    "Se realizó la absorción de los datos desde el origen de archivos `.csv` usando las librerías comunes de Python."
   ]
  },
  {
   "cell_type": "code",
   "execution_count": 1,
   "id": "0d02bff7",
   "metadata": {},
   "outputs": [],
   "source": [
    "# Importación de librerías\n",
    "import pandas as pd\n",
    "import seaborn as sns\n",
    "import numpy as np"
   ]
  },
  {
   "cell_type": "markdown",
   "id": "fdc412a9",
   "metadata": {},
   "source": [
    "Se llaman los archivos de datos nuevos, proporcionados por el cliente con los que se crearan las dimensiones y tablas de hechos."
   ]
  },
  {
   "cell_type": "code",
   "execution_count": 2,
   "id": "7b0d094c",
   "metadata": {},
   "outputs": [],
   "source": [
    "aeropuertos =  pd.read_csv(\"aeropuertos2.csv\")\n",
    "vuelos = pd.read_csv(\"vuelos2.csv\")\n",
    "cobertura = pd.read_excel(\"cobertura2.xlsx\")"
   ]
  },
  {
   "cell_type": "markdown",
   "id": "238cb2b2",
   "metadata": {},
   "source": [
    "Se eliminan los duplicados en los archivos de origen"
   ]
  },
  {
   "cell_type": "code",
   "execution_count": 3,
   "id": "7dcb0d68",
   "metadata": {},
   "outputs": [],
   "source": [
    "aeropuertos.drop_duplicates(inplace=True)\n",
    "vuelos.drop_duplicates(inplace=True)\n",
    "cobertura.drop_duplicates(inplace=True)"
   ]
  },
  {
   "cell_type": "markdown",
   "id": "a966c26d",
   "metadata": {},
   "source": [
    "Se crean las dimensiones y la tabla de hechos"
   ]
  },
  {
   "cell_type": "code",
   "execution_count": 4,
   "id": "9fa7910d",
   "metadata": {},
   "outputs": [],
   "source": [
    "#Dimension Características\n",
    "caracteristicas = vuelos.loc[:,['tipo_equipo','tipo_vuelo','trafico','empresa']]\n",
    "caracteristicas.drop_duplicates(inplace=True)\n",
    "caracteristicas = caracteristicas.sort_values(by = ['tipo_equipo','tipo_vuelo'])\n",
    "caracteristicas['id'] = np.arange(1,len(caracteristicas)+1, step = 1)\n",
    "cols=caracteristicas.columns.tolist()\n",
    "cols = cols[-1:] + cols[:-1]\n",
    "dim_caracteristicas = caracteristicas[cols]\n",
    "dim_caracteristicas = dim_caracteristicas.reset_index(drop=True)\n",
    "\n",
    "#Dimension Tipo_Equipo\n",
    "tipo_equipo = vuelos.tipo_equipo.unique()\n",
    "id_tipo_equipo = np.arange(1,len(tipo_equipo)+1, step = 1)\n",
    "dim_tipo_equipo = pd.DataFrame(data = {'equipo': tipo_equipo,'equipo_key': id_tipo_equipo})\n",
    "\n",
    "#Dimension Categoria\n",
    "categoria = aeropuertos.categoria.unique()\n",
    "id_categoria = np.arange(1,len(categoria)+1, step = 1)\n",
    "dim_categoria = pd.DataFrame(data = {'id': id_categoria,'categoria': categoria})\n",
    "dim_categoria = dim_categoria.sort_values(by=['categoria'])\n",
    "\n",
    "#Dimension Centro Poblado\n",
    "nombre_cp = cobertura['Nombre centro poblado']\n",
    "id_cp = cobertura['Codigo Centro Poblado']\n",
    "dim_centropoblado = pd.DataFrame(data = {'id': id_cp,'nombre': nombre_cp})\n",
    "\n",
    "#Dimension Fecha\n",
    "fecha = vuelos.ano\n",
    "mes = vuelos.mes\n",
    "dim_fecha = pd.DataFrame(data = {'año': fecha,'mes': mes})\n",
    "dim_fecha.drop_duplicates(inplace=True)\n",
    "dim_fecha = dim_fecha.sort_values(by=['año','mes'])\n",
    "id_fecha = np.arange(1,len(dim_fecha)+1, step = 1)\n",
    "dim_fecha['id'] = id_fecha\n",
    "cols=dim_fecha.columns.tolist()\n",
    "cols = cols[-1:] + cols[:-1]\n",
    "dim_fecha = dim_fecha[cols]\n",
    "dim_fecha = dim_fecha.reset_index(drop = True)\n",
    "\n",
    "#Dimension Geografía\n",
    "\n",
    "geografia = aeropuertos.loc[:,['gcd_municipio','municipio','gcd_departamento','departamento']]\n",
    "geografia.drop_duplicates(inplace=True)\n",
    "geografia = geografia.sort_values(by=['gcd_municipio','departamento','municipio'])\n",
    "geografia['id'] = np.arange(1,len(geografia)+1, step = 1)\n",
    "cols=geografia.columns.tolist()\n",
    "cols = cols[-1:] + cols[:-1]\n",
    "dim_geografia = geografia[cols]\n",
    "\n",
    "#Dimensión Aeropuerto\n",
    "dim_aeropuertos = aeropuertos.loc[:,['sigla','iata','nombre','latitud','longitud','propietario','explotador','longitud_pista','ancho_pista', 'pbmo', 'elevacion', 'resolucion', 'fecha_construccion',\n",
    "       'fecha_vigencia', 'clase', 'tipo', 'numero_vuelos_origen','gcd_municipio','categoria','Ano']]\n",
    "\n",
    "dim_aeropuertos['anoInicio'] = dim_aeropuertos.groupby('sigla')['Ano'].shift(1)\n",
    "dim_aeropuertos.anoInicio.fillna(dim_aeropuertos.Ano, inplace=True)\n",
    "#dim_aeropuertos.sort_values(by=['sigla','Ano'],ascending=[True, False],inplace = True)\n",
    "dim_aeropuertos['flagActual'] = dim_aeropuertos.groupby(['sigla'])['Ano'].rank(method='min', ascending = False) \n",
    "dim_aeropuertos = dim_aeropuertos.rename(columns={'Ano':'anoFin'})\n",
    "dim_aeropuertos.flagActual.where(dim_aeropuertos.flagActual == 1, 0, inplace=True)\n",
    "join_geografia = pd.merge(dim_aeropuertos, dim_geografia, on = 'gcd_municipio', how='left')\n",
    "join_geografia = join_geografia.loc[:,['sigla','iata','nombre','latitud','longitud','propietario','explotador','longitud_pista','ancho_pista', 'pbmo', 'elevacion', 'resolucion', 'fecha_construccion',\n",
    "       'fecha_vigencia', 'clase', 'tipo', 'numero_vuelos_origen','categoria','id','anoInicio','anoFin','flagActual']]\n",
    "join_geografia = join_geografia.rename(columns = {'id':'geografia_id'})\n",
    "join_categoria = pd.merge(join_geografia, dim_categoria, on = 'categoria', how='left')\n",
    "join_categoria = join_categoria.drop(columns = ['categoria'])\n",
    "join_categoria = join_categoria.rename(columns = {'id':'categoria_id'})\n",
    "dim_aeropuertos = join_categoria.loc[:,['sigla','iata','nombre','latitud','longitud','propietario','explotador','longitud_pista','ancho_pista', 'pbmo', 'elevacion', 'resolucion', 'fecha_construccion',\n",
    "       'fecha_vigencia', 'clase', 'tipo', 'numero_vuelos_origen','geografia_id','categoria_id','anoInicio','anoFin','flagActual']]\n",
    "dim_aeropuertos['id'] = np.arange(1,len(join_categoria)+1, step = 1)\n",
    "cols=dim_aeropuertos.columns.tolist()\n",
    "cols = cols[-1:] + cols[:-1]\n",
    "dim_aeropuertos = dim_aeropuertos[cols]\n",
    "dim_aeropuertos = dim_aeropuertos.reset_index(drop = True)\n",
    "\n",
    "# Tabla Hechos Cobertura\n",
    "\n",
    "hechos_cob = cobertura.loc[:,['Tipo_Cobertura','Aeropuerto','Codigo Centro Poblado','Distancia(Km)','Cobertura']]\n",
    "hechos_cob['id'] = np.arange(1,len(hechos_cob)+1, step = 1)\n",
    "hechos_cob = hechos_cob.loc[:,['id','Tipo_Cobertura','Aeropuerto','Codigo Centro Poblado','Distancia(Km)','Cobertura']]\n",
    "hechos_cob = hechos_cob.rename(columns={'Tipo_Cobertura':'TipoCobertura','Aeropuerto':'AeropuertoMasCercano','Cobertura':'flagCobertura','Distancia(Km)':'distancia','Codigo Centro Poblado':'CentroPoblado_id'})\n",
    "\n",
    "#Tabla de Hechos de Vuelos\n",
    "\n",
    "#Creacion de auxliar para JOIN de dimension de fecha\n",
    "aux_dim_fecha = dim_fecha.copy()\n",
    "aux_dim_fecha['concat_fecha']= aux_dim_fecha['año'].astype('str')+aux_dim_fecha['mes'].astype('str')\n",
    "\n",
    "#Creacion de auxliar para JOIN de dimension de caracteristicas\n",
    "aux_dim_caracteristicas = dim_caracteristicas.copy()\n",
    "aux_dim_caracteristicas['concat_data']= aux_dim_caracteristicas['tipo_equipo'].astype('str')+aux_dim_caracteristicas['tipo_vuelo'].astype('str')+aux_dim_caracteristicas['trafico'].astype('str')+aux_dim_caracteristicas['empresa'].astype('str')\n",
    "\n",
    "#creacion table de hechos de vuelos\n",
    "vuelos['concat_fecha'] = vuelos['ano'].astype('str') + vuelos['mes'].astype('str')\n",
    "fact_vuelos = pd.merge(vuelos,aux_dim_fecha, on = 'concat_fecha', how = 'left')\n",
    "fact_vuelos = fact_vuelos.drop(columns = ['ano','mes_x','mes_y','concat_fecha','año'])\n",
    "fact_vuelos.rename(columns={'id':'Fecha_id'},inplace=True)\n",
    "fact_vuelos['concat_data'] = fact_vuelos['tipo_equipo'].astype('str')+fact_vuelos['tipo_vuelo'].astype('str')+fact_vuelos['trafico'].astype('str')+fact_vuelos['empresa'].astype('str')\n",
    "fact_vuelos = fact_vuelos.drop(columns = ['tipo_equipo','tipo_vuelo','trafico','empresa'])\n",
    "fact_vuelos = pd.merge(fact_vuelos,aux_dim_caracteristicas, on = 'concat_data', how = 'left')\n",
    "fact_vuelos = fact_vuelos.drop(columns = ['concat_data'])\n",
    "fact_vuelos.rename(columns={'id':'Caracteristicas_id'},inplace=True)\n",
    "fact_vuelos['id']=np.arange(1,len(fact_vuelos)+1, step = 1)\n",
    "columnas = ['id','Fecha_id','origen','destino','Caracteristicas_id','vuelos','sillas','carga_ofrecida','pasajeros','carga_bordo']\n",
    "fact_vuelos = fact_vuelos[columnas]\n",
    "\n"
   ]
  },
  {
   "cell_type": "markdown",
   "id": "769411cb",
   "metadata": {},
   "source": [
    "Se exportan las dimensiones en formato `.csv` para importarlos a la base de datos de SQL Server"
   ]
  },
  {
   "cell_type": "code",
   "execution_count": 5,
   "id": "5802bd15",
   "metadata": {},
   "outputs": [],
   "source": [
    "dim_caracteristicas.to_csv('dim_caracteristicas.csv', index= False)\n",
    "dim_tipo_equipo.to_csv('dim_tipo_equipo.csv', index= False)\n",
    "dim_categoria.to_csv('dim_categoria.csv', index= False)\n",
    "dim_centropoblado.to_csv('dim_centropoblado.csv', index= False)\n",
    "dim_fecha.to_csv('dim_fecha.csv', index= False)\n",
    "dim_geografia.to_csv('dim_geografia.csv', index= False)\n",
    "dim_aeropuertos.to_csv('dim_aeropuertos.csv', index= False)\n",
    "hechos_cob.to_csv('hechos_cob.csv', index= False)\n",
    "fact_vuelos.to_csv('fact_vuelos.csv', index= False)"
   ]
  }
 ],
 "metadata": {
  "kernelspec": {
   "display_name": "Python 3",
   "language": "python",
   "name": "python3"
  },
  "language_info": {
   "codemirror_mode": {
    "name": "ipython",
    "version": 3
   },
   "file_extension": ".py",
   "mimetype": "text/x-python",
   "name": "python",
   "nbconvert_exporter": "python",
   "pygments_lexer": "ipython3",
   "version": "3.8.8"
  }
 },
 "nbformat": 4,
 "nbformat_minor": 5
}
